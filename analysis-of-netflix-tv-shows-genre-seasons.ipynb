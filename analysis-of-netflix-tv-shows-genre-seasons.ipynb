{
 "cells": [
  {
   "cell_type": "markdown",
   "id": "2e6268e7",
   "metadata": {
    "papermill": {
     "duration": 0.00501,
     "end_time": "2024-11-22T20:53:24.423726",
     "exception": false,
     "start_time": "2024-11-22T20:53:24.418716",
     "status": "completed"
    },
    "tags": []
   },
   "source": [
    "# Netflix's Highest-Rated Series\n",
    "\n",
    "**---**\n",
    "\n",
    "> This is my first project. I would love to hear your thoughts, and any constructive criticism will be taken into account for my future work. I am exploring the world of data analysis and want to focus my path on data science. Thank you for contributing!\n",
    "\n",
    "**---**\n",
    "\n",
    "**Data Analysis on [netflix-tv-shows-and-movies]**\n",
    "\n",
    "This project presents a comprehensive analysis of the *titles.csv* dataset, aiming to explore the ratings of TV series. Using exploratory data analysis (EDA) techniques, the goal is to derive meaningful insights to determine whether the genre and the number of seasons influence the IMDb scores of these series. Additionally, the project seeks to identify the characteristics a new series should have to achieve a rating between 5 and 8 points*.\n",
    "\n",
    "## Dataset Description\n",
    "The dataset used in this project comes from [/kaggle/input/netflix-tv-shows-and-movies] and includes titles, the number of seasons, genres, production year, etc.\n",
    "\n",
    "Although the dataset contains a wide variety of variables, our analysis focuses on only four.\n",
    "**Key Variables**: title, seasons, genres, imdb_score.\n",
    "\n",
    "You can download the dataset from [/kaggle/input/netflix-tv-shows-and-movies].\n",
    "\n",
    "## Project Objectives\n",
    "1. **Data Exploration**: Perform a descriptive analysis to identify patterns, outliers, and variable distributions.\n",
    "2. **Data Cleaning**: Handle missing values and data types.\n",
    "3. **Correlation Analysis**: Assess relationships among the key variables in the dataset.\n",
    "4. **Visualization**: Create charts and tables to effectively communicate the results and findings.\n",
    "\n",
    "## Requirements\n",
    "To run the project in your local environment, you need to install the following libraries:\n",
    "- pandas\n",
    "- numpy\n",
    "- seaborn\n",
    "- matplotlib.pyplot\n",
    "\n",
    "## About the Dataset\n",
    "It includes data related to the U.S. population up until July 2022.\n",
    "\n",
    "## General Overview\n",
    "We will import the necessary libraries and take an initial look at the dataset."
   ]
  },
  {
   "cell_type": "markdown",
   "id": "164f8bc4",
   "metadata": {
    "papermill": {
     "duration": 0.004002,
     "end_time": "2024-11-22T20:53:24.432197",
     "exception": false,
     "start_time": "2024-11-22T20:53:24.428195",
     "status": "completed"
    },
    "tags": []
   },
   "source": [
    "## Sobre el DataSet\n",
    "Incluye los datos pertenecientes a la poblacion de EEUU hasta el mes de Julio del año 2022."
   ]
  },
  {
   "cell_type": "markdown",
   "id": "a995f536",
   "metadata": {
    "papermill": {
     "duration": 0.00387,
     "end_time": "2024-11-22T20:53:24.440194",
     "exception": false,
     "start_time": "2024-11-22T20:53:24.436324",
     "status": "completed"
    },
    "tags": []
   },
   "source": [
    "## General Overview\n",
    "We will import the necessary libraries and take an initial look at the dataset."
   ]
  },
  {
   "cell_type": "code",
   "execution_count": 1,
   "id": "9a645e10",
   "metadata": {
    "_cell_guid": "b1076dfc-b9ad-4769-8c92-a6c4dae69d19",
    "_uuid": "8f2839f25d086af736a60e9eeb907d3b93b6e0e5",
    "execution": {
     "iopub.execute_input": "2024-11-22T20:53:24.450568Z",
     "iopub.status.busy": "2024-11-22T20:53:24.449790Z",
     "iopub.status.idle": "2024-11-22T20:53:26.830053Z",
     "shell.execute_reply": "2024-11-22T20:53:26.829032Z"
    },
    "papermill": {
     "duration": 2.387973,
     "end_time": "2024-11-22T20:53:26.832252",
     "exception": false,
     "start_time": "2024-11-22T20:53:24.444279",
     "status": "completed"
    },
    "tags": []
   },
   "outputs": [
    {
     "data": {
      "text/html": [
       "<div>\n",
       "<style scoped>\n",
       "    .dataframe tbody tr th:only-of-type {\n",
       "        vertical-align: middle;\n",
       "    }\n",
       "\n",
       "    .dataframe tbody tr th {\n",
       "        vertical-align: top;\n",
       "    }\n",
       "\n",
       "    .dataframe thead th {\n",
       "        text-align: right;\n",
       "    }\n",
       "</style>\n",
       "<table border=\"1\" class=\"dataframe\">\n",
       "  <thead>\n",
       "    <tr style=\"text-align: right;\">\n",
       "      <th></th>\n",
       "      <th>id</th>\n",
       "      <th>title</th>\n",
       "      <th>type</th>\n",
       "      <th>description</th>\n",
       "      <th>release_year</th>\n",
       "      <th>age_certification</th>\n",
       "      <th>runtime</th>\n",
       "      <th>genres</th>\n",
       "      <th>production_countries</th>\n",
       "      <th>seasons</th>\n",
       "      <th>imdb_id</th>\n",
       "      <th>imdb_score</th>\n",
       "      <th>imdb_votes</th>\n",
       "      <th>tmdb_popularity</th>\n",
       "      <th>tmdb_score</th>\n",
       "    </tr>\n",
       "  </thead>\n",
       "  <tbody>\n",
       "    <tr>\n",
       "      <th>0</th>\n",
       "      <td>ts300399</td>\n",
       "      <td>Five Came Back: The Reference Films</td>\n",
       "      <td>SHOW</td>\n",
       "      <td>This collection includes 12 World War II-era p...</td>\n",
       "      <td>1945</td>\n",
       "      <td>TV-MA</td>\n",
       "      <td>51</td>\n",
       "      <td>['documentation']</td>\n",
       "      <td>['US']</td>\n",
       "      <td>1.0</td>\n",
       "      <td>NaN</td>\n",
       "      <td>NaN</td>\n",
       "      <td>NaN</td>\n",
       "      <td>0.600</td>\n",
       "      <td>NaN</td>\n",
       "    </tr>\n",
       "    <tr>\n",
       "      <th>1</th>\n",
       "      <td>tm84618</td>\n",
       "      <td>Taxi Driver</td>\n",
       "      <td>MOVIE</td>\n",
       "      <td>A mentally unstable Vietnam War veteran works ...</td>\n",
       "      <td>1976</td>\n",
       "      <td>R</td>\n",
       "      <td>114</td>\n",
       "      <td>['drama', 'crime']</td>\n",
       "      <td>['US']</td>\n",
       "      <td>NaN</td>\n",
       "      <td>tt0075314</td>\n",
       "      <td>8.2</td>\n",
       "      <td>808582.0</td>\n",
       "      <td>40.965</td>\n",
       "      <td>8.179</td>\n",
       "    </tr>\n",
       "    <tr>\n",
       "      <th>2</th>\n",
       "      <td>tm154986</td>\n",
       "      <td>Deliverance</td>\n",
       "      <td>MOVIE</td>\n",
       "      <td>Intent on seeing the Cahulawassee River before...</td>\n",
       "      <td>1972</td>\n",
       "      <td>R</td>\n",
       "      <td>109</td>\n",
       "      <td>['drama', 'action', 'thriller', 'european']</td>\n",
       "      <td>['US']</td>\n",
       "      <td>NaN</td>\n",
       "      <td>tt0068473</td>\n",
       "      <td>7.7</td>\n",
       "      <td>107673.0</td>\n",
       "      <td>10.010</td>\n",
       "      <td>7.300</td>\n",
       "    </tr>\n",
       "    <tr>\n",
       "      <th>3</th>\n",
       "      <td>tm127384</td>\n",
       "      <td>Monty Python and the Holy Grail</td>\n",
       "      <td>MOVIE</td>\n",
       "      <td>King Arthur, accompanied by his squire, recrui...</td>\n",
       "      <td>1975</td>\n",
       "      <td>PG</td>\n",
       "      <td>91</td>\n",
       "      <td>['fantasy', 'action', 'comedy']</td>\n",
       "      <td>['GB']</td>\n",
       "      <td>NaN</td>\n",
       "      <td>tt0071853</td>\n",
       "      <td>8.2</td>\n",
       "      <td>534486.0</td>\n",
       "      <td>15.461</td>\n",
       "      <td>7.811</td>\n",
       "    </tr>\n",
       "    <tr>\n",
       "      <th>4</th>\n",
       "      <td>tm120801</td>\n",
       "      <td>The Dirty Dozen</td>\n",
       "      <td>MOVIE</td>\n",
       "      <td>12 American military prisoners in World War II...</td>\n",
       "      <td>1967</td>\n",
       "      <td>NaN</td>\n",
       "      <td>150</td>\n",
       "      <td>['war', 'action']</td>\n",
       "      <td>['GB', 'US']</td>\n",
       "      <td>NaN</td>\n",
       "      <td>tt0061578</td>\n",
       "      <td>7.7</td>\n",
       "      <td>72662.0</td>\n",
       "      <td>20.398</td>\n",
       "      <td>7.600</td>\n",
       "    </tr>\n",
       "  </tbody>\n",
       "</table>\n",
       "</div>"
      ],
      "text/plain": [
       "         id                                title   type  \\\n",
       "0  ts300399  Five Came Back: The Reference Films   SHOW   \n",
       "1   tm84618                          Taxi Driver  MOVIE   \n",
       "2  tm154986                          Deliverance  MOVIE   \n",
       "3  tm127384      Monty Python and the Holy Grail  MOVIE   \n",
       "4  tm120801                      The Dirty Dozen  MOVIE   \n",
       "\n",
       "                                         description  release_year  \\\n",
       "0  This collection includes 12 World War II-era p...          1945   \n",
       "1  A mentally unstable Vietnam War veteran works ...          1976   \n",
       "2  Intent on seeing the Cahulawassee River before...          1972   \n",
       "3  King Arthur, accompanied by his squire, recrui...          1975   \n",
       "4  12 American military prisoners in World War II...          1967   \n",
       "\n",
       "  age_certification  runtime                                       genres  \\\n",
       "0             TV-MA       51                            ['documentation']   \n",
       "1                 R      114                           ['drama', 'crime']   \n",
       "2                 R      109  ['drama', 'action', 'thriller', 'european']   \n",
       "3                PG       91              ['fantasy', 'action', 'comedy']   \n",
       "4               NaN      150                            ['war', 'action']   \n",
       "\n",
       "  production_countries  seasons    imdb_id  imdb_score  imdb_votes  \\\n",
       "0               ['US']      1.0        NaN         NaN         NaN   \n",
       "1               ['US']      NaN  tt0075314         8.2    808582.0   \n",
       "2               ['US']      NaN  tt0068473         7.7    107673.0   \n",
       "3               ['GB']      NaN  tt0071853         8.2    534486.0   \n",
       "4         ['GB', 'US']      NaN  tt0061578         7.7     72662.0   \n",
       "\n",
       "   tmdb_popularity  tmdb_score  \n",
       "0            0.600         NaN  \n",
       "1           40.965       8.179  \n",
       "2           10.010       7.300  \n",
       "3           15.461       7.811  \n",
       "4           20.398       7.600  "
      ]
     },
     "execution_count": 1,
     "metadata": {},
     "output_type": "execute_result"
    }
   ],
   "source": [
    "import pandas as pd\n",
    "import numpy as np\n",
    "import seaborn as sns\n",
    "import matplotlib.pyplot as plt\n",
    "\n",
    "titles = pd.read_csv('/kaggle/input/netflix-tv-shows-and-movies/titles.csv')\n",
    "titles.head()"
   ]
  },
  {
   "cell_type": "markdown",
   "id": "b31e69a2",
   "metadata": {
    "papermill": {
     "duration": 0.00433,
     "end_time": "2024-11-22T20:53:26.841267",
     "exception": false,
     "start_time": "2024-11-22T20:53:26.836937",
     "status": "completed"
    },
    "tags": []
   },
   "source": [
    "Now, we will examine the number of non-null rows in each column, as well as the data types they contain."
   ]
  },
  {
   "cell_type": "markdown",
   "id": "eed17386",
   "metadata": {
    "papermill": {
     "duration": 0.004115,
     "end_time": "2024-11-22T20:53:26.849726",
     "exception": false,
     "start_time": "2024-11-22T20:53:26.845611",
     "status": "completed"
    },
    "tags": []
   },
   "source": [
    "## Dataset Exploration  "
   ]
  },
  {
   "cell_type": "code",
   "execution_count": 2,
   "id": "682e3f07",
   "metadata": {
    "execution": {
     "iopub.execute_input": "2024-11-22T20:53:26.861152Z",
     "iopub.status.busy": "2024-11-22T20:53:26.860530Z",
     "iopub.status.idle": "2024-11-22T20:53:26.888268Z",
     "shell.execute_reply": "2024-11-22T20:53:26.887084Z"
    },
    "papermill": {
     "duration": 0.035686,
     "end_time": "2024-11-22T20:53:26.890623",
     "exception": false,
     "start_time": "2024-11-22T20:53:26.854937",
     "status": "completed"
    },
    "tags": []
   },
   "outputs": [
    {
     "name": "stdout",
     "output_type": "stream",
     "text": [
      "<class 'pandas.core.frame.DataFrame'>\n",
      "RangeIndex: 5850 entries, 0 to 5849\n",
      "Data columns (total 15 columns):\n",
      " #   Column                Non-Null Count  Dtype  \n",
      "---  ------                --------------  -----  \n",
      " 0   id                    5850 non-null   object \n",
      " 1   title                 5849 non-null   object \n",
      " 2   type                  5850 non-null   object \n",
      " 3   description           5832 non-null   object \n",
      " 4   release_year          5850 non-null   int64  \n",
      " 5   age_certification     3231 non-null   object \n",
      " 6   runtime               5850 non-null   int64  \n",
      " 7   genres                5850 non-null   object \n",
      " 8   production_countries  5850 non-null   object \n",
      " 9   seasons               2106 non-null   float64\n",
      " 10  imdb_id               5447 non-null   object \n",
      " 11  imdb_score            5368 non-null   float64\n",
      " 12  imdb_votes            5352 non-null   float64\n",
      " 13  tmdb_popularity       5759 non-null   float64\n",
      " 14  tmdb_score            5539 non-null   float64\n",
      "dtypes: float64(5), int64(2), object(8)\n",
      "memory usage: 685.7+ KB\n"
     ]
    }
   ],
   "source": [
    "titles.info()"
   ]
  },
  {
   "cell_type": "markdown",
   "id": "273f5f9c",
   "metadata": {
    "papermill": {
     "duration": 0.004483,
     "end_time": "2024-11-22T20:53:26.900439",
     "exception": false,
     "start_time": "2024-11-22T20:53:26.895956",
     "status": "completed"
    },
    "tags": []
   },
   "source": [
    "The dataset contains a total of **5,849** titles, representing the number of distinct series in the dataset.  \n",
    "\n",
    "> **Note:** While a series can be the same but have different seasons, and these seasons might have names different from the original, they are counted as new entries. However, this does not affect the analysis since the genre remains constant despite the seasons.  \n",
    "\n",
    "Focusing on the **key variables**, we can observe the following data types for these variables:  \n",
    "\n",
    "- `title` = object  \n",
    "- `genres` = object  \n",
    "- `seasons` = float  \n",
    "- `imdb_score` = float  \n",
    "\n",
    "Next, we will examine some descriptive parameters of the dataset.  "
   ]
  },
  {
   "cell_type": "code",
   "execution_count": 3,
   "id": "87d67960",
   "metadata": {
    "execution": {
     "iopub.execute_input": "2024-11-22T20:53:26.911248Z",
     "iopub.status.busy": "2024-11-22T20:53:26.910637Z",
     "iopub.status.idle": "2024-11-22T20:53:26.940327Z",
     "shell.execute_reply": "2024-11-22T20:53:26.939232Z"
    },
    "papermill": {
     "duration": 0.037559,
     "end_time": "2024-11-22T20:53:26.942526",
     "exception": false,
     "start_time": "2024-11-22T20:53:26.904967",
     "status": "completed"
    },
    "tags": []
   },
   "outputs": [
    {
     "data": {
      "text/html": [
       "<div>\n",
       "<style scoped>\n",
       "    .dataframe tbody tr th:only-of-type {\n",
       "        vertical-align: middle;\n",
       "    }\n",
       "\n",
       "    .dataframe tbody tr th {\n",
       "        vertical-align: top;\n",
       "    }\n",
       "\n",
       "    .dataframe thead th {\n",
       "        text-align: right;\n",
       "    }\n",
       "</style>\n",
       "<table border=\"1\" class=\"dataframe\">\n",
       "  <thead>\n",
       "    <tr style=\"text-align: right;\">\n",
       "      <th></th>\n",
       "      <th>release_year</th>\n",
       "      <th>runtime</th>\n",
       "      <th>seasons</th>\n",
       "      <th>imdb_score</th>\n",
       "      <th>imdb_votes</th>\n",
       "      <th>tmdb_popularity</th>\n",
       "      <th>tmdb_score</th>\n",
       "    </tr>\n",
       "  </thead>\n",
       "  <tbody>\n",
       "    <tr>\n",
       "      <th>count</th>\n",
       "      <td>5850.000000</td>\n",
       "      <td>5850.000000</td>\n",
       "      <td>2106.000000</td>\n",
       "      <td>5368.000000</td>\n",
       "      <td>5.352000e+03</td>\n",
       "      <td>5759.000000</td>\n",
       "      <td>5539.000000</td>\n",
       "    </tr>\n",
       "    <tr>\n",
       "      <th>mean</th>\n",
       "      <td>2016.417094</td>\n",
       "      <td>76.888889</td>\n",
       "      <td>2.162868</td>\n",
       "      <td>6.510861</td>\n",
       "      <td>2.343938e+04</td>\n",
       "      <td>22.637925</td>\n",
       "      <td>6.829175</td>\n",
       "    </tr>\n",
       "    <tr>\n",
       "      <th>std</th>\n",
       "      <td>6.937726</td>\n",
       "      <td>39.002509</td>\n",
       "      <td>2.689041</td>\n",
       "      <td>1.163826</td>\n",
       "      <td>9.582047e+04</td>\n",
       "      <td>81.680263</td>\n",
       "      <td>1.170391</td>\n",
       "    </tr>\n",
       "    <tr>\n",
       "      <th>min</th>\n",
       "      <td>1945.000000</td>\n",
       "      <td>0.000000</td>\n",
       "      <td>1.000000</td>\n",
       "      <td>1.500000</td>\n",
       "      <td>5.000000e+00</td>\n",
       "      <td>0.009442</td>\n",
       "      <td>0.500000</td>\n",
       "    </tr>\n",
       "    <tr>\n",
       "      <th>25%</th>\n",
       "      <td>2016.000000</td>\n",
       "      <td>44.000000</td>\n",
       "      <td>1.000000</td>\n",
       "      <td>5.800000</td>\n",
       "      <td>5.167500e+02</td>\n",
       "      <td>2.728500</td>\n",
       "      <td>6.100000</td>\n",
       "    </tr>\n",
       "    <tr>\n",
       "      <th>50%</th>\n",
       "      <td>2018.000000</td>\n",
       "      <td>83.000000</td>\n",
       "      <td>1.000000</td>\n",
       "      <td>6.600000</td>\n",
       "      <td>2.233500e+03</td>\n",
       "      <td>6.821000</td>\n",
       "      <td>6.900000</td>\n",
       "    </tr>\n",
       "    <tr>\n",
       "      <th>75%</th>\n",
       "      <td>2020.000000</td>\n",
       "      <td>104.000000</td>\n",
       "      <td>2.000000</td>\n",
       "      <td>7.300000</td>\n",
       "      <td>9.494000e+03</td>\n",
       "      <td>16.590000</td>\n",
       "      <td>7.537500</td>\n",
       "    </tr>\n",
       "    <tr>\n",
       "      <th>max</th>\n",
       "      <td>2022.000000</td>\n",
       "      <td>240.000000</td>\n",
       "      <td>42.000000</td>\n",
       "      <td>9.600000</td>\n",
       "      <td>2.294231e+06</td>\n",
       "      <td>2274.044000</td>\n",
       "      <td>10.000000</td>\n",
       "    </tr>\n",
       "  </tbody>\n",
       "</table>\n",
       "</div>"
      ],
      "text/plain": [
       "       release_year      runtime      seasons   imdb_score    imdb_votes  \\\n",
       "count   5850.000000  5850.000000  2106.000000  5368.000000  5.352000e+03   \n",
       "mean    2016.417094    76.888889     2.162868     6.510861  2.343938e+04   \n",
       "std        6.937726    39.002509     2.689041     1.163826  9.582047e+04   \n",
       "min     1945.000000     0.000000     1.000000     1.500000  5.000000e+00   \n",
       "25%     2016.000000    44.000000     1.000000     5.800000  5.167500e+02   \n",
       "50%     2018.000000    83.000000     1.000000     6.600000  2.233500e+03   \n",
       "75%     2020.000000   104.000000     2.000000     7.300000  9.494000e+03   \n",
       "max     2022.000000   240.000000    42.000000     9.600000  2.294231e+06   \n",
       "\n",
       "       tmdb_popularity   tmdb_score  \n",
       "count      5759.000000  5539.000000  \n",
       "mean         22.637925     6.829175  \n",
       "std          81.680263     1.170391  \n",
       "min           0.009442     0.500000  \n",
       "25%           2.728500     6.100000  \n",
       "50%           6.821000     6.900000  \n",
       "75%          16.590000     7.537500  \n",
       "max        2274.044000    10.000000  "
      ]
     },
     "execution_count": 3,
     "metadata": {},
     "output_type": "execute_result"
    }
   ],
   "source": [
    "titles.describe()"
   ]
  },
  {
   "cell_type": "markdown",
   "id": "fc2eacfd",
   "metadata": {
    "papermill": {
     "duration": 0.004526,
     "end_time": "2024-11-22T20:53:26.952071",
     "exception": false,
     "start_time": "2024-11-22T20:53:26.947545",
     "status": "completed"
    },
    "tags": []
   },
   "source": [
    "We observe the following averages for the data of interest:  \n",
    "\n",
    "- There is a tendency for series to have a minimum of 2 seasons.  \n",
    "- No series reaches a rating of 9.5 points on IMDb.  \n",
    "- There is a series with 42 seasons. We will identify its title out of curiosity.  "
   ]
  },
  {
   "cell_type": "code",
   "execution_count": 4,
   "id": "2adc9711",
   "metadata": {
    "execution": {
     "iopub.execute_input": "2024-11-22T20:53:26.962922Z",
     "iopub.status.busy": "2024-11-22T20:53:26.962560Z",
     "iopub.status.idle": "2024-11-22T20:53:26.975728Z",
     "shell.execute_reply": "2024-11-22T20:53:26.974564Z"
    },
    "papermill": {
     "duration": 0.021034,
     "end_time": "2024-11-22T20:53:26.977704",
     "exception": false,
     "start_time": "2024-11-22T20:53:26.956670",
     "status": "completed"
    },
    "tags": []
   },
   "outputs": [
    {
     "name": "stdout",
     "output_type": "stream",
     "text": [
      "         id     title  type  \\\n",
      "91  ts20981  Survivor  SHOW   \n",
      "\n",
      "                                          description  release_year  \\\n",
      "91  A reality show contest where sixteen or more c...          2000   \n",
      "\n",
      "   age_certification  runtime       genres production_countries  seasons  \\\n",
      "91             TV-PG       48  ['reality']               ['US']     42.0   \n",
      "\n",
      "      imdb_id  imdb_score  imdb_votes  tmdb_popularity  tmdb_score  \n",
      "91  tt0239195         7.4     24687.0            54.19         7.4  \n"
     ]
    }
   ],
   "source": [
    "season_max = titles[\"seasons\"].max()\n",
    "info_season_max = titles[titles[\"seasons\"] == season_max]\n",
    "print(info_season_max)"
   ]
  },
  {
   "cell_type": "markdown",
   "id": "298bfcb1",
   "metadata": {
    "papermill": {
     "duration": 0.004733,
     "end_time": "2024-11-22T20:53:26.987555",
     "exception": false,
     "start_time": "2024-11-22T20:53:26.982822",
     "status": "completed"
    },
    "tags": []
   },
   "source": [
    "This corresponds to the series **SURVIVOR**, which has a rating of **7.4**.  \n",
    "This is an unusual case, as it is rare for a series with such a high number of seasons to maintain such a strong rating. Nonetheless, it allows us to observe this phenomenon.  "
   ]
  },
  {
   "cell_type": "markdown",
   "id": "ca8963dc",
   "metadata": {
    "papermill": {
     "duration": 0.004551,
     "end_time": "2024-11-22T20:53:26.996876",
     "exception": false,
     "start_time": "2024-11-22T20:53:26.992325",
     "status": "completed"
    },
    "tags": []
   },
   "source": [
    "## Dataset Cleaning and Manipulation  \n",
    "\n",
    "In the empty cells of our key variables, we will fill them with the number **0**, but only for variables of type `float`.  \n",
    "Additionally, we will rename the original variable `\"imdb_score\"` to `\"score\"` for easier manipulation.  "
   ]
  },
  {
   "cell_type": "code",
   "execution_count": 5,
   "id": "b028079a",
   "metadata": {
    "execution": {
     "iopub.execute_input": "2024-11-22T20:53:27.007976Z",
     "iopub.status.busy": "2024-11-22T20:53:27.007596Z",
     "iopub.status.idle": "2024-11-22T20:53:27.015533Z",
     "shell.execute_reply": "2024-11-22T20:53:27.014722Z"
    },
    "papermill": {
     "duration": 0.015843,
     "end_time": "2024-11-22T20:53:27.017554",
     "exception": false,
     "start_time": "2024-11-22T20:53:27.001711",
     "status": "completed"
    },
    "tags": []
   },
   "outputs": [],
   "source": [
    "# I fill the empty numerical columns with 0.\n",
    "titles['seasons'] = titles['seasons'].fillna(0)\n",
    "titles['imdb_score'] = titles['imdb_score'].fillna(0)\n",
    "\n",
    "# I rename it to \"score\" for easier handling.\n",
    "titles = titles.rename(columns={'imdb_score': 'score'})\n"
   ]
  },
  {
   "cell_type": "markdown",
   "id": "af54fa14",
   "metadata": {
    "papermill": {
     "duration": 0.004788,
     "end_time": "2024-11-22T20:53:27.027355",
     "exception": false,
     "start_time": "2024-11-22T20:53:27.022567",
     "status": "completed"
    },
    "tags": []
   },
   "source": [
    "We will define **new datasets** to facilitate data manipulation, containing the following variables:  \n",
    "\n",
    "1. `title`, `genres`, `score`  \n",
    "2. `title`, `seasons`, `score`  \n",
    "\n",
    "Since there are too many genres, and to make visualization easier later, we will filter the dataset to include only the most frequent genres.  "
   ]
  },
  {
   "cell_type": "code",
   "execution_count": 6,
   "id": "9ab79483",
   "metadata": {
    "execution": {
     "iopub.execute_input": "2024-11-22T20:53:27.038859Z",
     "iopub.status.busy": "2024-11-22T20:53:27.038451Z",
     "iopub.status.idle": "2024-11-22T20:53:27.051585Z",
     "shell.execute_reply": "2024-11-22T20:53:27.050762Z"
    },
    "papermill": {
     "duration": 0.021282,
     "end_time": "2024-11-22T20:53:27.053562",
     "exception": false,
     "start_time": "2024-11-22T20:53:27.032280",
     "status": "completed"
    },
    "tags": []
   },
   "outputs": [],
   "source": [
    "genres = titles[['title','genres','score']]\n",
    "seasons = titles [['title','seasons','score']]\n",
    "\n",
    "# I count how many times each genre appears.\n",
    "genrestop = genres['genres'].value_counts().head(20).index\n",
    "\n",
    "# I now filter the genres by those that appear most frequently.\n",
    "genres20 = genres[genres['genres'].isin(genrestop)]"
   ]
  },
  {
   "cell_type": "markdown",
   "id": "77cc2f43",
   "metadata": {
    "papermill": {
     "duration": 0.004682,
     "end_time": "2024-11-22T20:53:27.063259",
     "exception": false,
     "start_time": "2024-11-22T20:53:27.058577",
     "status": "completed"
    },
    "tags": []
   },
   "source": [
    "## Visualization: Genres vs Score  \n",
    "\n",
    "Since these are variables of different types, we will use a **BoxPlot** to observe the relationship between both variables.  "
   ]
  },
  {
   "cell_type": "code",
   "execution_count": 7,
   "id": "feadf04a",
   "metadata": {
    "execution": {
     "iopub.execute_input": "2024-11-22T20:53:27.074457Z",
     "iopub.status.busy": "2024-11-22T20:53:27.074084Z",
     "iopub.status.idle": "2024-11-22T20:53:27.564021Z",
     "shell.execute_reply": "2024-11-22T20:53:27.562979Z"
    },
    "papermill": {
     "duration": 0.498258,
     "end_time": "2024-11-22T20:53:27.566304",
     "exception": false,
     "start_time": "2024-11-22T20:53:27.068046",
     "status": "completed"
    },
    "tags": []
   },
   "outputs": [
    {
     "data": {
      "image/png": "[encoded data removed]",
      "text/plain": [
       "<Figure size 1200x600 with 1 Axes>"
      ]
     },
     "metadata": {},
     "output_type": "display_data"
    }
   ],
   "source": [
    "# Create a boxplot\n",
    "plt.figure(figsize=(12, 6))\n",
    "sns.boxplot(x='genres', y='score', data=genres20)\n",
    "\n",
    "# Rotate the x-axis labels for better visualization\n",
    "plt.xticks(rotation=90)\n",
    "\n",
    "# Add title and labels\n",
    "plt.title('Distribution of Scores by Genre (Top 20)')\n",
    "plt.xlabel('Genres')\n",
    "plt.ylabel('Score')\n",
    "\n",
    "# Display the chart\n",
    "plt.show()"
   ]
  },
  {
   "cell_type": "markdown",
   "id": "203c5c25",
   "metadata": {
    "papermill": {
     "duration": 0.00596,
     "end_time": "2024-11-22T20:53:27.578824",
     "exception": false,
     "start_time": "2024-11-22T20:53:27.572864",
     "status": "completed"
    },
    "tags": []
   },
   "source": [
    "We can see that series featuring drama as a genre are the most popular among the audience, with ratings ranging between 5 and 7 points.  \n",
    "\n",
    "> Note that the graph distinguishes the order in which genres appear (e.g., \"thriller-drama\" is different from \"drama-thriller\"), but this does not affect the conclusion presented at the end of the analysis."
   ]
  },
  {
   "cell_type": "markdown",
   "id": "f4117b50",
   "metadata": {
    "papermill": {
     "duration": 0.005813,
     "end_time": "2024-11-22T20:53:27.590787",
     "exception": false,
     "start_time": "2024-11-22T20:53:27.584974",
     "status": "completed"
    },
    "tags": []
   },
   "source": [
    "## Visualization: Seasons vs Score  \n",
    "\n",
    "Since both variables are numerical or float, a scatter plot has been chosen to easily observe any trends."
   ]
  },
  {
   "cell_type": "code",
   "execution_count": 8,
   "id": "ca1b926c",
   "metadata": {
    "execution": {
     "iopub.execute_input": "2024-11-22T20:53:27.605192Z",
     "iopub.status.busy": "2024-11-22T20:53:27.604226Z",
     "iopub.status.idle": "2024-11-22T20:53:27.899940Z",
     "shell.execute_reply": "2024-11-22T20:53:27.898805Z"
    },
    "papermill": {
     "duration": 0.305257,
     "end_time": "2024-11-22T20:53:27.902067",
     "exception": false,
     "start_time": "2024-11-22T20:53:27.596810",
     "status": "completed"
    },
    "tags": []
   },
   "outputs": [
    {
     "name": "stdout",
     "output_type": "stream",
     "text": [
      "Axes(0.125,0.11;0.775x0.77)\n"
     ]
    },
    {
     "data": {
      "image/png": "[encoded data removed]",
      "text/plain": [
       "<Figure size 640x480 with 1 Axes>"
      ]
     },
     "metadata": {},
     "output_type": "display_data"
    }
   ],
   "source": [
    "# Scatter plot for score vs seasons\n",
    "\n",
    "dispersion_seasons = sns.scatterplot (x = 'seasons', y = 'score', data = seasons)\n",
    "plt.title ('Scatter plot of ratings versus the number of seasons in a series')\n",
    "plt.xlabel(\"Seasons\")\n",
    "plt.ylabel(\"Score\")\n",
    "print (dispersion_seasons)"
   ]
  },
  {
   "cell_type": "markdown",
   "id": "c8fa8a8b",
   "metadata": {
    "papermill": {
     "duration": 0.006705,
     "end_time": "2024-11-22T20:53:27.915845",
     "exception": false,
     "start_time": "2024-11-22T20:53:27.909140",
     "status": "completed"
    },
    "tags": []
   },
   "source": [
    "We can observe two key points:  \n",
    "1. A strong concentration of series with up to 3 seasons.  \n",
    "2. The outlier data from the series **SURVIVOR**."
   ]
  },
  {
   "cell_type": "markdown",
   "id": "4ddff5b7",
   "metadata": {
    "papermill": {
     "duration": 0.006647,
     "end_time": "2024-11-22T20:53:27.929307",
     "exception": false,
     "start_time": "2024-11-22T20:53:27.922660",
     "status": "completed"
    },
    "tags": []
   },
   "source": [
    "## Conclusion\n",
    "\n",
    "From the analysis, we’ve identified two key factors that significantly influence the success of a series in the U.S. audience:\n",
    "\n",
    "1. **The \"drama\" genre**: Series categorized as \"drama,\" or those that include this genre, tend to get more acceptance from the U.S. audience. This suggests that producers should consider the drama genre as a strategic choice to increase the chances of a series' success.\n",
    "\n",
    "2. **Number of seasons**: While there are exceptions, series with up to **5 seasons** tend to get the best ratings. This shows that to perform well with both critics and viewers, it’s important not to stretch a series too long. A limited number of seasons, but well-developed, might be key to keeping the quality and viewer interest high.\n",
    "\n",
    "In short, for content producers, it’s essential to consider these two factors when creating and developing a series: focusing on the drama genre and keeping the number of seasons limited, ideally up to the fifth season, can be a game-changer for a series' success in the U.S. market."
   ]
  },
  {
   "cell_type": "code",
   "execution_count": null,
   "id": "5b9dd1c9",
   "metadata": {
    "papermill": {
     "duration": 0.006531,
     "end_time": "2024-11-22T20:53:27.942687",
     "exception": false,
     "start_time": "2024-11-22T20:53:27.936156",
     "status": "completed"
    },
    "tags": []
   },
   "outputs": [],
   "source": []
  }
 ],
 "metadata": {
  "kaggle": {
   "accelerator": "none",
   "dataSources": [
    {
     "datasetId": 2178661,
     "sourceId": 3989707,
     "sourceType": "datasetVersion"
    }
   ],
   "dockerImageVersionId": 30786,
   "isGpuEnabled": false,
   "isInternetEnabled": false,
   "language": "python",
   "sourceType": "notebook"
  },
  "kernelspec": {
   "display_name": "Python 3",
   "language": "python",
   "name": "python3"
  },
  "language_info": {
   "codemirror_mode": {
    "name": "ipython",
    "version": 3
   },
   "file_extension": ".py",
   "mimetype": "text/x-python",
   "name": "python",
   "nbconvert_exporter": "python",
   "pygments_lexer": "ipython3",
   "version": "3.10.14"
  },
  "papermill": {
   "default_parameters": {},
   "duration": 6.541673,
   "end_time": "2024-11-22T20:53:28.468577",
   "environment_variables": {},
   "exception": null,
   "input_path": "__notebook__.ipynb",
   "output_path": "__notebook__.ipynb",
   "parameters": {},
   "start_time": "2024-11-22T20:53:21.926904",
   "version": "2.6.0"
  }
 },
 "nbformat": 4,
 "nbformat_minor": 5
}
